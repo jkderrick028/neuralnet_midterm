{
 "cells": [
  {
   "cell_type": "code",
   "execution_count": 1,
   "metadata": {},
   "outputs": [],
   "source": [
    "from brian2 import *\n",
    "import matplotlib.pyplot as plt\n",
    "import numpy as np\n",
    "\n",
    "% matplotlib inline"
   ]
  },
  {
   "cell_type": "code",
   "execution_count": 2,
   "metadata": {},
   "outputs": [],
   "source": [
    "N = 1000; Ne = int( 0.8*N ); Ni = int( 0.2*N );\n",
    "\n",
    "T = 4; # total time we want to simulate, 4 s\n",
    "dt = 0.001; # 1 ms temporal resolution\n",
    "\n",
    "time = np.linspace(dt,T, int(T/dt)) # time in ms"
   ]
  },
  {
   "cell_type": "code",
   "execution_count": 3,
   "metadata": {},
   "outputs": [
    {
     "data": {
      "text/plain": [
       "array([  0,   5,   9,  20,  26,  28,  32,  35,  37,  42,  48,  55,  59,\n",
       "        60,  66,  81,  91,  96,  99, 101, 110, 120, 122, 129, 140, 141,\n",
       "       142, 143, 158, 166, 170, 176, 179, 197, 199, 202, 208, 209, 210,\n",
       "       216, 219, 226, 227, 233, 236, 239, 240, 245, 248, 251, 252, 257,\n",
       "       266, 271, 275, 277, 278, 286, 291, 302, 311, 335, 338, 340, 344,\n",
       "       347, 348, 350, 354, 355, 363, 376, 380, 381, 382, 389, 397, 401,\n",
       "       410, 411, 415, 417, 426, 433, 439, 442, 448, 453, 455, 457, 463,\n",
       "       473, 474, 475, 477, 486, 490, 500, 504, 517, 518, 520, 521, 535,\n",
       "       540, 548, 554, 556, 557, 566, 574, 575, 583, 584, 588, 592, 596,\n",
       "       603, 609, 610, 626, 630, 639, 643, 644, 645, 647, 650, 651, 653,\n",
       "       660, 670, 671, 675, 676, 678, 682, 686, 688, 690, 693, 695, 700,\n",
       "       708, 712, 720, 731, 744, 750, 763, 776, 778, 783, 788, 789, 794,\n",
       "       795, 800, 805, 807, 810, 814, 820, 822, 823, 828, 831, 835, 836,\n",
       "       837, 838, 842, 844, 845, 856, 874, 875, 881, 882, 885, 893, 907,\n",
       "       908, 912, 916, 929, 938, 944, 949, 950, 951, 962, 963, 966, 969,\n",
       "       981, 986, 996, 998, 999])"
      ]
     },
     "execution_count": 3,
     "metadata": {},
     "output_type": "execute_result"
    }
   ],
   "source": [
    "# decide which 20% neurons are inhibitory\n",
    "inhibitory_indx = np.sort(np.random.choice(range(N),Ni,replace=False))\n",
    "inhibitory_indx"
   ]
  },
  {
   "cell_type": "code",
   "execution_count": 4,
   "metadata": {},
   "outputs": [],
   "source": [
    "J0 = 0.3; J1 = 0.4; l = 0.2\n",
    "sigma = 1.8\n",
    "\n",
    "# i-d array, storing the position of each neuron\n",
    "positions = np.linspace(0,1,N,endpoint=False)\n",
    "\n",
    "# pre-define Jij_ex\n",
    "Jij_ex = np.zeros([N, N])"
   ]
  },
  {
   "cell_type": "code",
   "execution_count": 5,
   "metadata": {},
   "outputs": [],
   "source": [
    "def sigmoid(x):\n",
    "    z = 1 / (1 + np.exp(-x))\n",
    "    return z"
   ]
  },
  {
   "cell_type": "code",
   "execution_count": 6,
   "metadata": {},
   "outputs": [],
   "source": [
    "# Equ. 8\n",
    "def sigma_ij_comp(i,j,sigma):\n",
    "    if i<j:\n",
    "        result = 1\n",
    "    else:\n",
    "        result = sigma\n",
    "    return result"
   ]
  },
  {
   "cell_type": "code",
   "execution_count": 7,
   "metadata": {},
   "outputs": [],
   "source": [
    "def Jij_ex_comp(i, j):\n",
    "    sigma_ij = sigma_ij_comp(i,j,sigma)\n",
    "    result = sigma_ij * J1 * np.exp(-np.abs(positions[i]-positions[j])/l)\n",
    "    return result"
   ]
  },
  {
   "cell_type": "code",
   "execution_count": 8,
   "metadata": {},
   "outputs": [],
   "source": [
    "def Jij_in_comp(i, j):\n",
    "    sigma_ij = sigma_ij_comp(i,j,sigma)\n",
    "    result = sigma_ij * J2 * np.exp(-np.abs(positions[i]-positions[j])/l)\n",
    "    return result"
   ]
  },
  {
   "cell_type": "code",
   "execution_count": 9,
   "metadata": {},
   "outputs": [],
   "source": [
    "x0 = time/len(time)\n",
    "I0 = 1.02\n",
    "lambda_e = 0.03\n",
    "lambda_i = 0.02\n",
    "Vres = 0.85\n",
    "theta = 1\n",
    "J2 = 0.02\n",
    "s_ex = 0.2\n",
    "s_in = 0.7"
   ]
  },
  {
   "cell_type": "code",
   "execution_count": 10,
   "metadata": {},
   "outputs": [
    {
     "data": {
      "text/plain": [
       "array([[0.72      , 0.39800499, 0.39601993, ..., 0.00273591, 0.00272227,\n",
       "        0.00270869],\n",
       "       [0.71640899, 0.72      , 0.39800499, ..., 0.00274963, 0.00273591,\n",
       "        0.00272227],\n",
       "       [0.71283588, 0.71640899, 0.72      , ..., 0.00276341, 0.00274963,\n",
       "        0.00273591],\n",
       "       ...,\n",
       "       [0.00492464, 0.00494933, 0.00497413, ..., 0.72      , 0.39800499,\n",
       "        0.39601993],\n",
       "       [0.00490008, 0.00492464, 0.00494933, ..., 0.71640899, 0.72      ,\n",
       "        0.39800499],\n",
       "       [0.00487564, 0.00490008, 0.00492464, ..., 0.71283588, 0.71640899,\n",
       "        0.72      ]])"
      ]
     },
     "execution_count": 10,
     "metadata": {},
     "output_type": "execute_result"
    }
   ],
   "source": [
    "# compute each element of Jij_ex, treat Jij_ex as a constant matrix\n",
    "for ii in range(N):\n",
    "    for jj in range(N):\n",
    "        Jij_ex[ii,jj] = Jij_ex_comp(ii,jj)\n",
    "    \n",
    "Jij_ex"
   ]
  },
  {
   "cell_type": "code",
   "execution_count": 11,
   "metadata": {},
   "outputs": [
    {
     "data": {
      "text/plain": [
       "array([[0.036     , 0.01990025, 0.019801  , ..., 0.0001368 , 0.00013611,\n",
       "        0.00013543],\n",
       "       [0.03582045, 0.036     , 0.01990025, ..., 0.00013748, 0.0001368 ,\n",
       "        0.00013611],\n",
       "       [0.03564179, 0.03582045, 0.036     , ..., 0.00013817, 0.00013748,\n",
       "        0.0001368 ],\n",
       "       ...,\n",
       "       [0.00024623, 0.00024747, 0.00024871, ..., 0.036     , 0.01990025,\n",
       "        0.019801  ],\n",
       "       [0.000245  , 0.00024623, 0.00024747, ..., 0.03582045, 0.036     ,\n",
       "        0.01990025],\n",
       "       [0.00024378, 0.000245  , 0.00024623, ..., 0.03564179, 0.03582045,\n",
       "        0.036     ]])"
      ]
     },
     "execution_count": 11,
     "metadata": {},
     "output_type": "execute_result"
    }
   ],
   "source": [
    "# compute each element of Jij_in, treat Jij_in as a constant matrix\n",
    "Jij_in = np.zeros([N, N])\n",
    "for ii in range(N):\n",
    "    for jj in range(N):\n",
    "        Jij_in[ii,jj] = Jij_in_comp(ii,jj)\n",
    "    \n",
    "Jij_in"
   ]
  },
  {
   "cell_type": "code",
   "execution_count": null,
   "metadata": {},
   "outputs": [],
   "source": []
  },
  {
   "cell_type": "code",
   "execution_count": 12,
   "metadata": {},
   "outputs": [
    {
     "data": {
      "text/plain": [
       "array([[1.05059996, 1.05059992, 1.05059989, ..., 1.05044746, 1.05044742,\n",
       "        1.05044738],\n",
       "       [1.05044742, 1.05044746, 1.0504475 , ..., 1.05059992, 1.05059996,\n",
       "        1.0506    ],\n",
       "       [1.05029556, 1.0502956 , 1.05029564, ..., 1.05044731, 1.05044734,\n",
       "        1.05044738],\n",
       "       ...,\n",
       "       [1.02056893, 1.02056893, 1.02056893, ..., 1.02057178, 1.02057178,\n",
       "        1.02057178],\n",
       "       [1.02056609, 1.02056609, 1.02056609, ..., 1.02056893, 1.02056893,\n",
       "        1.02056893],\n",
       "       [1.02056327, 1.02056327, 1.02056327, ..., 1.02056609, 1.02056609,\n",
       "        1.02056609]])"
      ]
     },
     "execution_count": 12,
     "metadata": {},
     "output_type": "execute_result"
    }
   ],
   "source": [
    "# Equ. 9\n",
    "I_ext_ex = np.zeros([Ne, len(time)])\n",
    "\n",
    "for i in range(Ne):\n",
    "    for t in range(len(time)):\n",
    "        I_ext_ex[i,t] = I0 * (1 + lambda_e*np.exp(-np.abs(positions[i]-x0[t])/l))\n",
    "I_ext_ex"
   ]
  },
  {
   "cell_type": "code",
   "execution_count": null,
   "metadata": {},
   "outputs": [],
   "source": []
  },
  {
   "cell_type": "code",
   "execution_count": 13,
   "metadata": {},
   "outputs": [
    {
     "data": {
      "text/plain": [
       "array([1.04038551, 1.04034204, 1.04026967, ..., 1.04034204, 1.04038551,\n",
       "       1.0404    ])"
      ]
     },
     "execution_count": 13,
     "metadata": {},
     "output_type": "execute_result"
    }
   ],
   "source": [
    "# Equ. 10\n",
    "I_ext_in = np.zeros(len(time))\n",
    "\n",
    "for t in range(len(time)):\n",
    "    I_ext_in[t] = I0 * (1 + lambda_i * np.cos(2*np.pi*time[t]*6)) # 6-9 Hz\n",
    "\n",
    "I_ext_in"
   ]
  },
  {
   "cell_type": "code",
   "execution_count": 14,
   "metadata": {},
   "outputs": [
    {
     "data": {
      "text/plain": [
       "[<matplotlib.lines.Line2D at 0x7ff308e10810>]"
      ]
     },
     "execution_count": 14,
     "metadata": {},
     "output_type": "execute_result"
    },
    {
     "data": {
      "image/png": "[encoded data removed]",
      "text/plain": [
       "<Figure size 432x288 with 1 Axes>"
      ]
     },
     "metadata": {
      "needs_background": "light"
     },
     "output_type": "display_data"
    }
   ],
   "source": [
    "plt.plot(time, I_ext_in)"
   ]
  },
  {
   "cell_type": "code",
   "execution_count": 15,
   "metadata": {},
   "outputs": [],
   "source": [
    "# I_ext = combine I_ext_ex and I_ext_in\n",
    "I_ext = np.zeros([N, len(time)])\n",
    "cnt_ex = 0\n",
    "cnt_in = 0\n",
    "for i in range(N):\n",
    "    if i in inhibitory_indx:\n",
    "        I_ext[i,:] = I_ext_in\n",
    "        cnt_in = cnt_in + 1\n",
    "    else:\n",
    "        I_ext[i,:] = I_ext_ex[cnt_ex,:]\n",
    "        cnt_ex = cnt_ex + 1"
   ]
  },
  {
   "cell_type": "code",
   "execution_count": 16,
   "metadata": {},
   "outputs": [],
   "source": [
    "def delta_kronecker(delta_t):\n",
    "    if delta_t == 0:\n",
    "        return 1\n",
    "    else:\n",
    "        return 0"
   ]
  },
  {
   "cell_type": "code",
   "execution_count": 17,
   "metadata": {},
   "outputs": [],
   "source": [
    "# compute I_ex and I_in\n",
    "I_ex = np.zeros([N, len(time)])\n",
    "I_in = np.zeros([N, len(time)])\n",
    "\n",
    "t_spike = np.zeros([N, len(time)])\n",
    "\n",
    "Is = np.zeros([N, len(time)])\n",
    "\n",
    "V = np.zeros([N, len(time)])\n",
    "V[:,0] = Vres"
   ]
  },
  {
   "cell_type": "code",
   "execution_count": 18,
   "metadata": {},
   "outputs": [],
   "source": [
    "tau_ex = 6/1000\n",
    "tau_in = 4/1000\n",
    "tau = 20/1000"
   ]
  },
  {
   "cell_type": "code",
   "execution_count": 19,
   "metadata": {},
   "outputs": [],
   "source": [
    "def integrate_and_fire(V, t_spike_time, t, Is):\n",
    "    dV = dt*(-V[:,t-1] + Is[:,t-1] + I_ext[:,t-1])/tau\n",
    "    V[:,t] = V[:,t-1] + dV\n",
    "    for i in range(N):\n",
    "        if V[i,t]>theta:\n",
    "            t_spike_time[i,t] = 1\n",
    "            V[i,t] = Vres\n",
    "            \n",
    "        if i in inhibitory_indx:\n",
    "            I_in[i,t] = I_in[i,t-1] + dt*(-I_in[i,t-1]/tau_in + s_in*np.dot(Jij_in[i,:],t_spike_time[:,t-1]))\n",
    "        else:\n",
    "            I_ex[i,t] = I_ex[i,t-1] + dt*(-I_ex[i,t-1]/tau_ex + s_ex*np.dot(Jij_ex[i,:],t_spike_time[:,t-1]))\n",
    "            \n",
    "    Is = I_ex - I_in\n",
    "    \n",
    "    return V, t_spike_time, Is"
   ]
  },
  {
   "cell_type": "code",
   "execution_count": 20,
   "metadata": {},
   "outputs": [],
   "source": [
    "for t in range(1,len(time)):\n",
    "    V, t_spike, Is = integrate_and_fire(V, t_spike, t, Is)\n",
    "    "
   ]
  },
  {
   "cell_type": "code",
   "execution_count": 21,
   "metadata": {},
   "outputs": [
    {
     "data": {
      "text/plain": [
       "array([[0., 0., 0., ..., 0., 0., 0.],\n",
       "       [0., 0., 0., ..., 0., 0., 0.],\n",
       "       [0., 0., 0., ..., 0., 0., 1.],\n",
       "       ...,\n",
       "       [0., 0., 0., ..., 0., 0., 0.],\n",
       "       [0., 0., 0., ..., 0., 0., 0.],\n",
       "       [0., 0., 0., ..., 0., 0., 0.]])"
      ]
     },
     "execution_count": 21,
     "metadata": {},
     "output_type": "execute_result"
    }
   ],
   "source": [
    "t_spike"
   ]
  },
  {
   "cell_type": "code",
   "execution_count": null,
   "metadata": {},
   "outputs": [],
   "source": []
  }
 ],
 "metadata": {
  "kernelspec": {
   "display_name": "Python 3",
   "language": "python",
   "name": "python3"
  },
  "language_info": {
   "codemirror_mode": {
    "name": "ipython",
    "version": 3
   },
   "file_extension": ".py",
   "mimetype": "text/x-python",
   "name": "python",
   "nbconvert_exporter": "python",
   "pygments_lexer": "ipython3",
   "version": "3.7.9"
  }
 },
 "nbformat": 4,
 "nbformat_minor": 4
}
