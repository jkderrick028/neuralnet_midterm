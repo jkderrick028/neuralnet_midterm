{
 "cells": [
  {
   "cell_type": "code",
   "execution_count": 1,
   "metadata": {},
   "outputs": [],
   "source": [
    "from brian2 import *\n",
    "import matplotlib.pyplot as plt\n",
    "import numpy as np\n",
    "\n",
    "% matplotlib inline"
   ]
  },
  {
   "cell_type": "code",
   "execution_count": 2,
   "metadata": {},
   "outputs": [],
   "source": [
    "N = 100; Ne = int( 0.8*N ); Ni = int( 0.2*N );\n",
    "\n",
    "T = 4; # total time we want to simulate, 4 s\n",
    "dt = 0.001; # 1 ms temporal resolution\n",
    "\n",
    "time = np.linspace(dt,T, int(T/dt)) # time in ms"
   ]
  },
  {
   "cell_type": "code",
   "execution_count": 3,
   "metadata": {},
   "outputs": [
    {
     "data": {
      "text/plain": [
       "array([ 2, 20, 29, 31, 35, 36, 48, 51, 53, 55, 59, 62, 66, 68, 73, 75, 76,\n",
       "       77, 89, 94])"
      ]
     },
     "execution_count": 3,
     "metadata": {},
     "output_type": "execute_result"
    }
   ],
   "source": [
    "# decide which 20% neurons are inhibitory\n",
    "inhibitory_indx = np.sort(np.random.choice(range(N),Ni,replace=False))\n",
    "inhibitory_indx"
   ]
  },
  {
   "cell_type": "code",
   "execution_count": 4,
   "metadata": {},
   "outputs": [],
   "source": [
    "J0 = 0.3; J1 = 0.4; l = 0.2\n",
    "sigma = 1.8\n",
    "\n",
    "# i-d array, storing the position of each neuron\n",
    "positions = np.linspace(0,1,N,endpoint=False)\n",
    "\n",
    "# pre-define Jij_ex\n",
    "Jij_ex = np.zeros([N, N])"
   ]
  },
  {
   "cell_type": "code",
   "execution_count": 5,
   "metadata": {},
   "outputs": [],
   "source": [
    "def sigmoid(x):\n",
    "    z = 1 / (1 + np.exp(-x))\n",
    "    return z"
   ]
  },
  {
   "cell_type": "code",
   "execution_count": 6,
   "metadata": {},
   "outputs": [],
   "source": [
    "# Equ. 8\n",
    "def sigma_ij_comp(i,j,sigma):\n",
    "    if i<j:\n",
    "        result = 1\n",
    "    else:\n",
    "        result = sigma\n",
    "    return result"
   ]
  },
  {
   "cell_type": "code",
   "execution_count": 7,
   "metadata": {},
   "outputs": [],
   "source": [
    "def Jij_ex_comp(i, j):\n",
    "    sigma_ij = sigma_ij_comp(i,j,sigma)\n",
    "    result = sigma_ij * J1 * np.exp(-np.abs(positions[i]-positions[j])/l)\n",
    "    return result"
   ]
  },
  {
   "cell_type": "code",
   "execution_count": 8,
   "metadata": {},
   "outputs": [],
   "source": [
    "def Jij_in_comp(i, j):\n",
    "    sigma_ij = sigma_ij_comp(i,j,sigma)\n",
    "    result = sigma_ij * J2 * np.exp(-np.abs(positions[i]-positions[j])/l)\n",
    "    return result"
   ]
  },
  {
   "cell_type": "code",
   "execution_count": 9,
   "metadata": {},
   "outputs": [],
   "source": [
    "x0 = time/len(time)\n",
    "I0 = 1.02\n",
    "lambda_e = 0.03\n",
    "lambda_i = 0.02\n",
    "Vres = 0.85\n",
    "theta = 1\n",
    "J2 = 0.02\n",
    "s_ex = 0.2\n",
    "s_in = 0.7"
   ]
  },
  {
   "cell_type": "code",
   "execution_count": 10,
   "metadata": {},
   "outputs": [
    {
     "data": {
      "text/plain": [
       "array([[0.72      , 0.38049177, 0.36193497, ..., 0.00313135, 0.00297863,\n",
       "        0.00283336],\n",
       "       [0.68488519, 0.72      , 0.38049177, ..., 0.0032919 , 0.00313135,\n",
       "        0.00297863],\n",
       "       [0.65148294, 0.68488519, 0.72      , ..., 0.00346068, 0.0032919 ,\n",
       "        0.00313135],\n",
       "       ...,\n",
       "       [0.00563643, 0.00592542, 0.00622922, ..., 0.72      , 0.38049177,\n",
       "        0.36193497],\n",
       "       [0.00536154, 0.00563643, 0.00592542, ..., 0.68488519, 0.72      ,\n",
       "        0.38049177],\n",
       "       [0.00510005, 0.00536154, 0.00563643, ..., 0.65148294, 0.68488519,\n",
       "        0.72      ]])"
      ]
     },
     "execution_count": 10,
     "metadata": {},
     "output_type": "execute_result"
    }
   ],
   "source": [
    "# compute each element of Jij_ex, treat Jij_ex as a constant matrix\n",
    "for ii in range(N):\n",
    "    for jj in range(N):\n",
    "        Jij_ex[ii,jj] = Jij_ex_comp(ii,jj)\n",
    "    \n",
    "Jij_ex"
   ]
  },
  {
   "cell_type": "code",
   "execution_count": 11,
   "metadata": {},
   "outputs": [
    {
     "data": {
      "text/plain": [
       "array([[0.036     , 0.01902459, 0.01809675, ..., 0.00015657, 0.00014893,\n",
       "        0.00014167],\n",
       "       [0.03424426, 0.036     , 0.01902459, ..., 0.00016459, 0.00015657,\n",
       "        0.00014893],\n",
       "       [0.03257415, 0.03424426, 0.036     , ..., 0.00017303, 0.00016459,\n",
       "        0.00015657],\n",
       "       ...,\n",
       "       [0.00028182, 0.00029627, 0.00031146, ..., 0.036     , 0.01902459,\n",
       "        0.01809675],\n",
       "       [0.00026808, 0.00028182, 0.00029627, ..., 0.03424426, 0.036     ,\n",
       "        0.01902459],\n",
       "       [0.000255  , 0.00026808, 0.00028182, ..., 0.03257415, 0.03424426,\n",
       "        0.036     ]])"
      ]
     },
     "execution_count": 11,
     "metadata": {},
     "output_type": "execute_result"
    }
   ],
   "source": [
    "# compute each element of Jij_in, treat Jij_in as a constant matrix\n",
    "Jij_in = np.zeros([N, N])\n",
    "for ii in range(N):\n",
    "    for jj in range(N):\n",
    "        Jij_in[ii,jj] = Jij_in_comp(ii,jj)\n",
    "    \n",
    "Jij_in"
   ]
  },
  {
   "cell_type": "code",
   "execution_count": null,
   "metadata": {},
   "outputs": [],
   "source": []
  },
  {
   "cell_type": "code",
   "execution_count": 12,
   "metadata": {},
   "outputs": [
    {
     "data": {
      "text/plain": [
       "array([[1.05059996, 1.05059992, 1.05059989, ..., 1.05044746, 1.05044742,\n",
       "        1.05044738],\n",
       "       [1.04910766, 1.04910769, 1.04910773, ..., 1.04925345, 1.04925349,\n",
       "        1.04925352],\n",
       "       [1.04768806, 1.04768809, 1.04768813, ..., 1.04782674, 1.04782678,\n",
       "        1.04782681],\n",
       "       ...,\n",
       "       [1.02065116, 1.02065116, 1.02065116, ..., 1.02065442, 1.02065442,\n",
       "        1.02065442],\n",
       "       [1.0206194 , 1.0206194 , 1.0206194 , ..., 1.02062251, 1.02062251,\n",
       "        1.02062251],\n",
       "       [1.02058919, 1.0205892 , 1.0205892 , ..., 1.02059215, 1.02059215,\n",
       "        1.02059215]])"
      ]
     },
     "execution_count": 12,
     "metadata": {},
     "output_type": "execute_result"
    }
   ],
   "source": [
    "# Equ. 9\n",
    "I_ext_ex = np.zeros([Ne, len(time)])\n",
    "\n",
    "for i in range(Ne):\n",
    "    for t in range(len(time)):\n",
    "        I_ext_ex[i,t] = I0 * (1 + lambda_e*np.exp(-np.abs(positions[i]-x0[t])/l))\n",
    "I_ext_ex"
   ]
  },
  {
   "cell_type": "code",
   "execution_count": null,
   "metadata": {},
   "outputs": [],
   "source": []
  },
  {
   "cell_type": "code",
   "execution_count": 13,
   "metadata": {},
   "outputs": [
    {
     "data": {
      "text/plain": [
       "array([1.04038551, 1.04034204, 1.04026967, ..., 1.04034204, 1.04038551,\n",
       "       1.0404    ])"
      ]
     },
     "execution_count": 13,
     "metadata": {},
     "output_type": "execute_result"
    }
   ],
   "source": [
    "# Equ. 10\n",
    "I_ext_in = np.zeros(len(time))\n",
    "\n",
    "for t in range(len(time)):\n",
    "    I_ext_in[t] = I0 * (1 + lambda_i * np.cos(2*np.pi*time[t]*6)) # 6-9 Hz\n",
    "\n",
    "I_ext_in"
   ]
  },
  {
   "cell_type": "code",
   "execution_count": 14,
   "metadata": {},
   "outputs": [
    {
     "data": {
      "text/plain": [
       "[<matplotlib.lines.Line2D at 0x7fcc20a9fd90>]"
      ]
     },
     "execution_count": 14,
     "metadata": {},
     "output_type": "execute_result"
    },
    {
     "data": {
      "image/png": "[encoded data removed]",
      "text/plain": [
       "<Figure size 432x288 with 1 Axes>"
      ]
     },
     "metadata": {
      "needs_background": "light"
     },
     "output_type": "display_data"
    }
   ],
   "source": [
    "plt.plot(time, I_ext_in)"
   ]
  },
  {
   "cell_type": "code",
   "execution_count": 15,
   "metadata": {},
   "outputs": [],
   "source": [
    "# I_ext = combine I_ext_ex and I_ext_in\n",
    "I_ext = np.zeros([N, len(time)])\n",
    "cnt_ex = 0\n",
    "cnt_in = 0\n",
    "for i in range(N):\n",
    "    if i in inhibitory_indx:\n",
    "        I_ext[i,:] = I_ext_in\n",
    "        cnt_in = cnt_in + 1\n",
    "    else:\n",
    "        I_ext[i,:] = I_ext_ex[cnt_ex,:]\n",
    "        cnt_ex = cnt_ex + 1"
   ]
  },
  {
   "cell_type": "code",
   "execution_count": 16,
   "metadata": {},
   "outputs": [],
   "source": [
    "def delta_kronecker(delta_t):\n",
    "    if delta_t == 0:\n",
    "        return 1\n",
    "    else:\n",
    "        return 0"
   ]
  },
  {
   "cell_type": "code",
   "execution_count": 17,
   "metadata": {},
   "outputs": [],
   "source": [
    "# compute I_ex and I_in\n",
    "I_ex = np.zeros([N, len(time)])\n",
    "I_in = np.zeros([N, len(time)])\n",
    "\n",
    "t_spike = np.zeros([N, len(time)])\n",
    "\n",
    "Is = np.zeros([N, len(time)])\n",
    "\n",
    "V = np.zeros([N, len(time)])\n",
    "V[:,0] = Vres"
   ]
  },
  {
   "cell_type": "code",
   "execution_count": 18,
   "metadata": {},
   "outputs": [],
   "source": [
    "tau_ex = 6/1000\n",
    "tau_in = 4/1000\n",
    "tau = 20/1000"
   ]
  },
  {
   "cell_type": "code",
   "execution_count": 19,
   "metadata": {},
   "outputs": [],
   "source": [
    "def integrate_and_fire(V, t_spike_time, t, Is):\n",
    "    dV = dt*(-V[:,t-1] + Is[:,t-1] + I_ext[:,t-1])/tau\n",
    "    V[:,t] = V[:,t-1] + dV\n",
    "    for i in range(N):\n",
    "        if V[i,t]>theta:\n",
    "            t_spike_time[i,t] = 1\n",
    "            V[i,t] = Vres\n",
    "            \n",
    "        if i in inhibitory_indx:\n",
    "            I_in[i,t] = I_in[i,t-1] + dt*(-I_in[i,t-1]/tau_in + s_in*np.dot(Jij_in[i,:],t_spike_time[:,t-1]))\n",
    "        else:\n",
    "            I_ex[i,t] = I_ex[i,t-1] + dt*(-I_ex[i,t-1]/tau_ex + s_ex*np.dot(Jij_ex[i,:],t_spike_time[:,t-1]))\n",
    "            \n",
    "    Is = I_ex - I_in\n",
    "    \n",
    "    return V, t_spike_time, Is"
   ]
  },
  {
   "cell_type": "code",
   "execution_count": 20,
   "metadata": {},
   "outputs": [],
   "source": [
    "for t in range(1,len(time)):\n",
    "    V, t_spike, Is = integrate_and_fire(V, t_spike, t, Is)\n",
    "    "
   ]
  },
  {
   "cell_type": "code",
   "execution_count": 21,
   "metadata": {},
   "outputs": [
    {
     "data": {
      "text/plain": [
       "array([[0., 0., 0., ..., 0., 0., 0.],\n",
       "       [0., 0., 0., ..., 0., 0., 0.],\n",
       "       [0., 0., 0., ..., 0., 0., 0.],\n",
       "       ...,\n",
       "       [0., 0., 0., ..., 0., 0., 0.],\n",
       "       [0., 0., 0., ..., 0., 0., 0.],\n",
       "       [0., 0., 0., ..., 0., 0., 0.]])"
      ]
     },
     "execution_count": 21,
     "metadata": {},
     "output_type": "execute_result"
    }
   ],
   "source": [
    "t_spike"
   ]
  },
  {
   "cell_type": "code",
   "execution_count": 26,
   "metadata": {},
   "outputs": [
    {
     "data": {
      "text/plain": [
       "<matplotlib.collections.PathCollection at 0x7fcc6148f090>"
      ]
     },
     "execution_count": 26,
     "metadata": {},
     "output_type": "execute_result"
    },
    {
     "data": {
      "image/png": "[encoded data removed]",
      "text/plain": [
       "<Figure size 1080x720 with 1 Axes>"
      ]
     },
     "metadata": {
      "needs_background": "light"
     },
     "output_type": "display_data"
    }
   ],
   "source": [
    "plt.figure(figsize=(15,10))\n",
    "plt.xlabel('Time (ms)')\n",
    "plt.ylabel('Neuron #')\n",
    "plt.xlim([0, 1000])\n",
    "plt.ylim([0,800])\n",
    "plt.scatter(np.where(t_spike==1)[1], np.where(t_spike==1)[0])"
   ]
  },
  {
   "cell_type": "code",
   "execution_count": 23,
   "metadata": {},
   "outputs": [
    {
     "data": {
      "text/plain": [
       "array([  27,   54,   81, ..., 3898, 3939, 3980])"
      ]
     },
     "execution_count": 23,
     "metadata": {},
     "output_type": "execute_result"
    }
   ],
   "source": [
    "np.where(t_spike==1)[1]"
   ]
  },
  {
   "cell_type": "code",
   "execution_count": null,
   "metadata": {},
   "outputs": [],
   "source": []
  }
 ],
 "metadata": {
  "kernelspec": {
   "display_name": "Python 3",
   "language": "python",
   "name": "python3"
  },
  "language_info": {
   "codemirror_mode": {
    "name": "ipython",
    "version": 3
   },
   "file_extension": ".py",
   "mimetype": "text/x-python",
   "name": "python",
   "nbconvert_exporter": "python",
   "pygments_lexer": "ipython3",
   "version": "3.7.9"
  }
 },
 "nbformat": 4,
 "nbformat_minor": 4
}
