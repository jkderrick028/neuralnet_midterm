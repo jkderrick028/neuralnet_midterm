{
 "cells": [
  {
   "cell_type": "code",
   "execution_count": 1,
   "metadata": {},
   "outputs": [],
   "source": [
    "from brian2 import *\n",
    "import matplotlib.pyplot as plt\n",
    "import numpy as np\n",
    "\n",
    "% matplotlib inline"
   ]
  },
  {
   "cell_type": "code",
   "execution_count": 2,
   "metadata": {},
   "outputs": [],
   "source": [
    "N = 1000; Ne = int( 0.8*N ); Ni = int( 0.2*N );\n",
    "\n",
    "T = 4000; # total time we want to simulate, 4 s\n",
    "dt = 1; # 1 ms temporal resolution\n",
    "\n",
    "time = np.linspace(dt,T, int(T/dt)) # time in ms"
   ]
  },
  {
   "cell_type": "code",
   "execution_count": 3,
   "metadata": {},
   "outputs": [
    {
     "data": {
      "text/plain": [
       "array([  5,  10,  17,  21,  26,  28,  31,  35,  48,  56,  60,  65,  66,\n",
       "        68,  73,  79,  81,  91,  93, 105, 107, 111, 115, 124, 130, 137,\n",
       "       149, 155, 160, 164, 166, 168, 175, 183, 184, 192, 201, 221, 225,\n",
       "       229, 230, 235, 242, 254, 257, 261, 262, 271, 279, 283, 284, 286,\n",
       "       291, 294, 300, 303, 304, 308, 310, 314, 320, 321, 329, 334, 338,\n",
       "       341, 342, 343, 347, 349, 351, 359, 361, 364, 372, 375, 376, 380,\n",
       "       382, 384, 385, 389, 395, 397, 403, 404, 409, 415, 420, 426, 427,\n",
       "       433, 441, 445, 453, 456, 462, 463, 472, 480, 495, 497, 503, 504,\n",
       "       509, 513, 518, 529, 530, 540, 544, 549, 556, 558, 564, 570, 578,\n",
       "       589, 591, 595, 596, 597, 608, 610, 615, 618, 619, 623, 625, 628,\n",
       "       631, 634, 635, 641, 643, 646, 652, 653, 658, 664, 674, 682, 686,\n",
       "       691, 709, 711, 723, 726, 727, 733, 734, 737, 740, 741, 743, 745,\n",
       "       747, 749, 753, 754, 763, 785, 786, 789, 790, 799, 807, 813, 814,\n",
       "       819, 828, 829, 832, 834, 846, 870, 886, 889, 895, 897, 899, 901,\n",
       "       903, 904, 919, 920, 925, 930, 939, 940, 941, 953, 961, 971, 975,\n",
       "       976, 980, 985, 992, 998])"
      ]
     },
     "execution_count": 3,
     "metadata": {},
     "output_type": "execute_result"
    }
   ],
   "source": [
    "# decide which 20% neurons are inhibitory\n",
    "inhibitory_indx = np.sort(np.random.choice(range(N),Ni,replace=False))\n",
    "inhibitory_indx"
   ]
  },
  {
   "cell_type": "code",
   "execution_count": 4,
   "metadata": {},
   "outputs": [],
   "source": [
    "J0 = 0.3; J1 = 0.015; J2 = 0.02; l = 0.15\n",
    "sigma = 1.8\n",
    "\n",
    "x0 = time/T\n",
    "I0 = 1.02\n",
    "lambda_e = 0.03\n",
    "lambda_i = 0.02\n",
    "Vres = 0.85\n",
    "theta = 1\n",
    "\n",
    "# i-d array, storing the position of each neuron\n",
    "# positions = np.linspace(0,1,N,endpoint=False)\n",
    "positions = np.random.uniform(0,1,N)\n",
    "\n",
    "# pre-define Jij_ex\n",
    "Jij_ex = np.zeros([N, N])"
   ]
  },
  {
   "cell_type": "code",
   "execution_count": 5,
   "metadata": {},
   "outputs": [],
   "source": [
    "def s_in():\n",
    "    rand = np.random.uniform(0,1,1)\n",
    "    if rand<0.7:\n",
    "        return 1\n",
    "    else:\n",
    "        return 0\n",
    "    \n",
    "def s_ex():\n",
    "    rand = np.random.uniform(0,1,1)\n",
    "    if rand<0.2:\n",
    "        return 1\n",
    "    else:\n",
    "        return 0"
   ]
  },
  {
   "cell_type": "code",
   "execution_count": 6,
   "metadata": {},
   "outputs": [],
   "source": [
    "def sigmoid(x):\n",
    "    z = 1 / (1 + np.exp(-x))\n",
    "    return z"
   ]
  },
  {
   "cell_type": "code",
   "execution_count": 7,
   "metadata": {},
   "outputs": [],
   "source": [
    "# Equ. 8\n",
    "def sigma_ij_comp(i,j,sigma):\n",
    "    if i<j:\n",
    "        result = 1\n",
    "    else:\n",
    "        result = sigma\n",
    "    return result"
   ]
  },
  {
   "cell_type": "code",
   "execution_count": 8,
   "metadata": {},
   "outputs": [],
   "source": [
    "def Jij_ex_comp(i, j):\n",
    "    sigma_ij = sigma_ij_comp(i,j,sigma)\n",
    "    result = sigma_ij * J1 * np.exp(-np.abs(positions[i]-positions[j])/l)\n",
    "    return result"
   ]
  },
  {
   "cell_type": "code",
   "execution_count": 9,
   "metadata": {},
   "outputs": [],
   "source": [
    "def Jij_in_comp(i, j):\n",
    "    sigma_ij = sigma_ij_comp(i,j,sigma)\n",
    "    result = sigma_ij * J2 * np.exp(-np.abs(positions[i]-positions[j])/l)\n",
    "    return result"
   ]
  },
  {
   "cell_type": "code",
   "execution_count": null,
   "metadata": {},
   "outputs": [],
   "source": []
  },
  {
   "cell_type": "code",
   "execution_count": 10,
   "metadata": {},
   "outputs": [
    {
     "data": {
      "text/plain": [
       "array([[2.70000000e-02, 1.43906171e-02, 4.72909291e-05, ...,\n",
       "        3.05796442e-03, 1.44582299e-02, 4.94266304e-05],\n",
       "       [2.59031107e-02, 2.70000000e-02, 4.92935038e-05, ...,\n",
       "        3.18745653e-03, 1.49298537e-02, 5.15196432e-05],\n",
       "       [8.51236723e-05, 8.87283068e-05, 2.70000000e-02, ...,\n",
       "        2.31972593e-04, 4.90629865e-05, 1.43518571e-02],\n",
       "       ...,\n",
       "       [5.50433595e-03, 5.73742175e-03, 4.17550668e-04, ...,\n",
       "        2.70000000e-02, 3.17255063e-03, 2.42448687e-04],\n",
       "       [2.60248137e-02, 2.68737366e-02, 8.83133757e-05, ...,\n",
       "        5.71059114e-03, 2.70000000e-02, 5.12787156e-05],\n",
       "       [8.89679348e-05, 9.27353578e-05, 2.58333428e-02, ...,\n",
       "        4.36407636e-04, 9.23016881e-05, 2.70000000e-02]])"
      ]
     },
     "execution_count": 10,
     "metadata": {},
     "output_type": "execute_result"
    }
   ],
   "source": [
    "# compute each element of Jij_ex, treat Jij_ex as a constant matrix\n",
    "for ii in range(N):\n",
    "    for jj in range(N):\n",
    "        Jij_ex[ii,jj] = Jij_ex_comp(ii,jj)\n",
    "    \n",
    "Jij_ex"
   ]
  },
  {
   "cell_type": "code",
   "execution_count": 11,
   "metadata": {},
   "outputs": [
    {
     "data": {
      "text/plain": [
       "array([[3.60000000e-02, 1.91874894e-02, 6.30545721e-05, ...,\n",
       "        4.07728589e-03, 1.92776398e-02, 6.59021739e-05],\n",
       "       [3.45374809e-02, 3.60000000e-02, 6.57246717e-05, ...,\n",
       "        4.24994203e-03, 1.99064715e-02, 6.86928576e-05],\n",
       "       [1.13498230e-04, 1.18304409e-04, 3.60000000e-02, ...,\n",
       "        3.09296791e-04, 6.54173154e-05, 1.91358094e-02],\n",
       "       ...,\n",
       "       [7.33911460e-03, 7.64989566e-03, 5.56734224e-04, ...,\n",
       "        3.60000000e-02, 4.23006751e-03, 3.23264915e-04],\n",
       "       [3.46997516e-02, 3.58316488e-02, 1.17751168e-04, ...,\n",
       "        7.61412152e-03, 3.60000000e-02, 6.83716208e-05],\n",
       "       [1.18623913e-04, 1.23647144e-04, 3.44444570e-02, ...,\n",
       "        5.81876848e-04, 1.23068917e-04, 3.60000000e-02]])"
      ]
     },
     "execution_count": 11,
     "metadata": {},
     "output_type": "execute_result"
    }
   ],
   "source": [
    "# compute each element of Jij_in, treat Jij_in as a constant matrix\n",
    "Jij_in = np.zeros([N, N])\n",
    "for ii in range(N):\n",
    "    for jj in range(N):\n",
    "        Jij_in[ii,jj] = Jij_in_comp(ii,jj)\n",
    "    \n",
    "Jij_in"
   ]
  },
  {
   "cell_type": "code",
   "execution_count": null,
   "metadata": {},
   "outputs": [],
   "source": []
  },
  {
   "cell_type": "code",
   "execution_count": 12,
   "metadata": {},
   "outputs": [
    {
     "data": {
      "text/plain": [
       "array([[1.03784862, 1.03787839, 1.03790821, ..., 1.0200671 , 1.02006699,\n",
       "        1.02006688],\n",
       "       [1.03712351, 1.03715207, 1.03718068, ..., 1.02006994, 1.02006982,\n",
       "        1.02006971],\n",
       "       [1.02005627, 1.02005637, 1.02005646, ..., 1.04128269, 1.04124725,\n",
       "        1.04121187],\n",
       "       ...,\n",
       "       [1.0240924 , 1.02409923, 1.02410607, ..., 1.02029264, 1.02029216,\n",
       "        1.02029167],\n",
       "       [1.02027056, 1.02027101, 1.02027146, ..., 1.02442642, 1.02441904,\n",
       "        1.02441169],\n",
       "       [1.03041812, 1.0304355 , 1.03045291, ..., 1.02011496, 1.02011476,\n",
       "        1.02011457]])"
      ]
     },
     "execution_count": 12,
     "metadata": {},
     "output_type": "execute_result"
    }
   ],
   "source": [
    "# Equ. 9\n",
    "I_ext_ex = np.zeros([Ne, len(time)])\n",
    "\n",
    "for i in range(Ne):\n",
    "    for t in range(len(time)):\n",
    "        I_ext_ex[i,t] = I0 * (1 + lambda_e*np.exp(-np.abs(positions[i]-x0[t])/l))\n",
    "I_ext_ex"
   ]
  },
  {
   "cell_type": "code",
   "execution_count": 13,
   "metadata": {},
   "outputs": [
    {
     "data": {
      "text/plain": [
       "array([1.04037423, 1.040297  , 1.0401685 , ..., 1.040297  , 1.04037423,\n",
       "       1.0404    ])"
      ]
     },
     "execution_count": 13,
     "metadata": {},
     "output_type": "execute_result"
    }
   ],
   "source": [
    "# Equ. 10\n",
    "I_ext_in = np.zeros(len(time))\n",
    "\n",
    "for t in range(len(time)):\n",
    "    I_ext_in[t] = I0 * (1 + lambda_i * np.cos(2*np.pi*time[t]*8/1000)) # 6-9 Hz\n",
    "\n",
    "I_ext_in"
   ]
  },
  {
   "cell_type": "code",
   "execution_count": 14,
   "metadata": {},
   "outputs": [
    {
     "data": {
      "text/plain": [
       "[<matplotlib.lines.Line2D at 0x7fcdb1b43dd0>]"
      ]
     },
     "execution_count": 14,
     "metadata": {},
     "output_type": "execute_result"
    },
    {
     "data": {
      "image/png": "[encoded data removed]",
      "text/plain": [
       "<Figure size 432x288 with 1 Axes>"
      ]
     },
     "metadata": {
      "needs_background": "light"
     },
     "output_type": "display_data"
    }
   ],
   "source": [
    "plt.plot(time, I_ext_in)"
   ]
  },
  {
   "cell_type": "code",
   "execution_count": 15,
   "metadata": {},
   "outputs": [],
   "source": [
    "# I_ext = combine I_ext_ex and I_ext_in\n",
    "I_ext = np.zeros([N, len(time)])\n",
    "cnt_ex = 0\n",
    "cnt_in = 0\n",
    "for i in range(N):\n",
    "    if i in inhibitory_indx:\n",
    "        I_ext[i,:] = I_ext_in\n",
    "        cnt_in = cnt_in + 1\n",
    "    else:\n",
    "        I_ext[i,:] = I_ext_ex[cnt_ex,:]\n",
    "        cnt_ex = cnt_ex + 1"
   ]
  },
  {
   "cell_type": "code",
   "execution_count": 16,
   "metadata": {},
   "outputs": [],
   "source": [
    "def delta_kronecker(delta_t):\n",
    "    if delta_t == 0:\n",
    "        return 1\n",
    "    else:\n",
    "        return 0"
   ]
  },
  {
   "cell_type": "code",
   "execution_count": 17,
   "metadata": {},
   "outputs": [],
   "source": [
    "# compute I_ex and I_in\n",
    "I_ex = np.zeros([N, len(time)])\n",
    "I_in = np.zeros([N, len(time)])\n",
    "\n",
    "t_spike = np.zeros([N, len(time)])\n",
    "\n",
    "Is = I_ex - I_in\n",
    "\n",
    "V = np.zeros([N, len(time)])\n",
    "V[:,0] = Vres"
   ]
  },
  {
   "cell_type": "code",
   "execution_count": 18,
   "metadata": {},
   "outputs": [],
   "source": [
    "tau_ex = 6\n",
    "tau_in = 4\n",
    "tau = 20"
   ]
  },
  {
   "cell_type": "code",
   "execution_count": 19,
   "metadata": {},
   "outputs": [],
   "source": [
    "# Equ. 3\n",
    "def integrate_and_fire(V, t_spike_time, t, Is):\n",
    "    dV = dt*(-V[:,t-1] + Is[:,t-1] + I_ext[:,t-1])/tau\n",
    "    V[:,t] = V[:,t-1] + dV\n",
    "    for i in range(N):\n",
    "        if V[i,t]>theta:\n",
    "            t_spike_time[i,t] = 1\n",
    "            V[i,t] = Vres\n",
    "            \n",
    "        if i in inhibitory_indx:\n",
    "            I_in[i,t] = I_in[i,t-1] + dt*(-I_in[i,t-1]/tau_in + s_in()*np.dot(Jij_in[i,:],t_spike_time[:,t-1]))\n",
    "        else:\n",
    "            I_ex[i,t] = I_ex[i,t-1] + dt*(-I_ex[i,t-1]/tau_ex + s_ex()*np.dot(Jij_ex[i,:],t_spike_time[:,t-1]))\n",
    "            \n",
    "    Is = I_ex - I_in\n",
    "    \n",
    "    return V, t_spike_time, Is"
   ]
  },
  {
   "cell_type": "code",
   "execution_count": 20,
   "metadata": {},
   "outputs": [],
   "source": [
    "for t in range(1,len(time)):\n",
    "    V, t_spike, Is = integrate_and_fire(V, t_spike, t, Is)\n",
    "    "
   ]
  },
  {
   "cell_type": "code",
   "execution_count": 21,
   "metadata": {},
   "outputs": [
    {
     "data": {
      "text/plain": [
       "array([[0., 0., 0., ..., 1., 0., 1.],\n",
       "       [0., 0., 0., ..., 0., 1., 0.],\n",
       "       [0., 0., 0., ..., 0., 1., 1.],\n",
       "       ...,\n",
       "       [0., 0., 0., ..., 1., 1., 1.],\n",
       "       [0., 0., 0., ..., 0., 0., 0.],\n",
       "       [0., 0., 0., ..., 1., 1., 1.]])"
      ]
     },
     "execution_count": 21,
     "metadata": {},
     "output_type": "execute_result"
    }
   ],
   "source": [
    "t_spike"
   ]
  },
  {
   "cell_type": "code",
   "execution_count": 26,
   "metadata": {},
   "outputs": [
    {
     "data": {
      "text/plain": [
       "<matplotlib.collections.PathCollection at 0x7fcdb1d7cc10>"
      ]
     },
     "execution_count": 26,
     "metadata": {},
     "output_type": "execute_result"
    },
    {
     "data": {
      "image/png": "[encoded data removed]",
      "text/plain": [
       "<Figure size 1080x720 with 1 Axes>"
      ]
     },
     "metadata": {
      "needs_background": "light"
     },
     "output_type": "display_data"
    }
   ],
   "source": [
    "plt.figure(figsize=(15,10))\n",
    "plt.xlabel('Time (ms)')\n",
    "plt.ylabel('Neuron #')\n",
    "plt.scatter(np.where(t_spike==1)[1], np.where(t_spike==1)[0])"
   ]
  },
  {
   "cell_type": "code",
   "execution_count": 23,
   "metadata": {},
   "outputs": [
    {
     "data": {
      "text/plain": [
       "array([  0,   0,   0, ..., 999, 999, 999])"
      ]
     },
     "execution_count": 23,
     "metadata": {},
     "output_type": "execute_result"
    }
   ],
   "source": [
    "np.where(t_spike==1)[0]"
   ]
  },
  {
   "cell_type": "code",
   "execution_count": 27,
   "metadata": {},
   "outputs": [
    {
     "data": {
      "text/plain": [
       "2300950"
      ]
     },
     "execution_count": 27,
     "metadata": {},
     "output_type": "execute_result"
    }
   ],
   "source": [
    "np.sum(t_spike==1)"
   ]
  },
  {
   "cell_type": "code",
   "execution_count": null,
   "metadata": {},
   "outputs": [],
   "source": []
  }
 ],
 "metadata": {
  "kernelspec": {
   "display_name": "Python 3",
   "language": "python",
   "name": "python3"
  },
  "language_info": {
   "codemirror_mode": {
    "name": "ipython",
    "version": 3
   },
   "file_extension": ".py",
   "mimetype": "text/x-python",
   "name": "python",
   "nbconvert_exporter": "python",
   "pygments_lexer": "ipython3",
   "version": "3.7.9"
  }
 },
 "nbformat": 4,
 "nbformat_minor": 4
}
