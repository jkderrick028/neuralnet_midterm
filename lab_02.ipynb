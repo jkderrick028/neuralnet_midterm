{
 "cells": [
  {
   "cell_type": "code",
   "execution_count": 1,
   "metadata": {},
   "outputs": [],
   "source": [
    "# Intro to Neural Networks\n",
    "# Assignment 02\n",
    "# Jinkang (Derrick) Xiang\n",
    "# UWO ID: 251127537\n",
    "# jxiang27@uwo.ca\n",
    "# Jan. 26th, 2021"
   ]
  },
  {
   "cell_type": "code",
   "execution_count": 2,
   "metadata": {},
   "outputs": [],
   "source": [
    "import numpy as np \n",
    "import matplotlib.pyplot as plt \n",
    "from itertools import islice # import this to slice time within the \"for\" loop"
   ]
  },
  {
   "cell_type": "code",
   "execution_count": 3,
   "metadata": {},
   "outputs": [],
   "source": [
    "# parameters\n",
    "Rm     = 1e6    # resistance (ohm)\n",
    "Cm     = 2e-8   # capacitance (farad)\n",
    "taum   = Rm*Cm  # time constant (seconds)\n",
    "Vr     = -.060  # resting membrane potential (volt)\n",
    "Vreset = -.070  # membrane potential after spike (volt)\n",
    "Vth    = -.050  # spike threshold (volt)\n",
    "Vs     = .020   # spiking potential (volt)"
   ]
  },
  {
   "cell_type": "code",
   "execution_count": 4,
   "metadata": {},
   "outputs": [],
   "source": [
    "dt     = .001   # simulation time step (seconds)\n",
    "T      = 1.0    # total time to simulate (seconds)\n",
    "time   = np.linspace(dt,T,int(T/dt)) # vector of timepoints we will simulate"
   ]
  },
  {
   "cell_type": "code",
   "execution_count": 5,
   "metadata": {},
   "outputs": [],
   "source": [
    "def initialize_simulation():\n",
    "    # zero-pad membrane potential vector 'V' and spike vector 'spikes'\n",
    "    V      = np.zeros(time.size) # preallocate vector for simulated membrane potentials\n",
    "    spikes = np.zeros(time.size) # vector to denote when spikes happen - spikes will be added after LIF simulation\n",
    "    V[0]   = Vr # set first time point to resting potential\n",
    "    return V,spikes\n",
    "\n",
    "def logistic_map(a,x0,nsteps):\n",
    "    # function to simulate logistic map:\n",
    "    # x_{n+1} = a * x_n * (1-x_n)\n",
    "    x    = np.zeros(nsteps)\n",
    "    x[0] = x0\n",
    "    for ii in range(1,nsteps):\n",
    "        x[ii] = a * x[ii-1] * (1-x[ii-1])\n",
    "    return x\n",
    "\n",
    "def plot_potentials(time,V,timeSpikes):\n",
    "    # plots membrane potential (V) against time (time), and marks spikes with red markers (timeSpikes)\n",
    "    plt.show()\n",
    "    plt.plot(time,V,'k',timeSpikes,np.ones(timeSpikes.size)*Vs,'ro')\n",
    "    plt.ylabel('membrane potential (mV)')\n",
    "    plt.xlabel('time (seconds)')\n",
    "\n",
    "def check_solutions( result, solution_filename ):\n",
    "    # check solutions against provided values\n",
    "    solution = np.load( solution_filename )\n",
    "    if ( np.linalg.norm( np.abs( result - solution ) ) < 0.1 ):\n",
    "        print( '\\n\\n ---- problem solved successfully ---- \\n\\n' )"
   ]
  },
  {
   "cell_type": "code",
   "execution_count": 6,
   "metadata": {},
   "outputs": [],
   "source": [
    "def integrate_and_fire( V, spikes, ii, Ie ):\n",
    "    # function to integrate changes in local membrane potential and fire if threshold reached\n",
    "    # V - vector of membrane potential\n",
    "    # spikes - spike marker vector\n",
    "    # ii - index (applied to V and spikes) for current time step\n",
    "    # Ie - input current at this time step (scalar of unit amp)\n",
    "\n",
    "    # 1: calculate change in membrane potential (dV)\n",
    "    dV = dt * (Vr - V[ii-1] + Rm*Ie) / taum \n",
    "    # 2: integrate over given time step (Euler method)\n",
    "    V[ii] = V[ii-1] + dV\n",
    "    # 3: does the membrane potential exceed threshold (V > Vth)?\n",
    "    if V[ii] > Vth:\n",
    "        spikes[ii] = 1\n",
    "        V[ii] = Vreset\n",
    "\n",
    "    return V,spikes # output the membrane potential vector and the {0,1} vector of spikes"
   ]
  },
  {
   "cell_type": "code",
   "execution_count": 7,
   "metadata": {},
   "outputs": [],
   "source": [
    "def problem_1():\n",
    "    #////////////////////////////////////\n",
    "    #  problem 1 - step current input //\n",
    "    #//////////////////////////////////\n",
    "    #\n",
    "    # Implement a leaky integrate and fire (LIF) neuron with parameters given \n",
    "    # above. \n",
    "    # \n",
    "    # Create a current input which:\n",
    "    #       - starts at 0 A\n",
    "    #       - steps up to 15 nA at stim_time[0]\n",
    "    #       - steps down to 0 A at stim_time[1]\n",
    "    #\n",
    "    # Output:\n",
    "    # Plot the resulting simulated membrane potential of the LIF neuron.\n",
    "    #\n",
    "\n",
    "    # problem-specific parameters\n",
    "    stim_time = [.2,.8] # time (seconds) when current turns ON and turns OFF\n",
    "    \n",
    "    V,spikes = initialize_simulation() \t# initialize simulation\n",
    "        \n",
    "    for ii in range(1,len(time)):\n",
    "        if ii >= int(stim_time[0]/dt) and ii <= int(stim_time[1]/dt):\n",
    "            Ie = 1.5e-8\n",
    "        else:\n",
    "            Ie = 0\n",
    "            \n",
    "        V, spikes = integrate_and_fire( V, spikes, ii, Ie )\n",
    "    \n",
    "    # add spikes to create membrane potential waveforms\n",
    "    V[spikes==1] = Vs\n",
    "    \n",
    "    # plot membrane potential\n",
    "    plot_potentials(time,V,time[spikes==1])\n",
    "    plt.title('P1 : step current input')\n",
    "\n",
    "    # output:\n",
    "    V_prob1 = V\n",
    "    return V_prob1"
   ]
  },
  {
   "cell_type": "code",
   "execution_count": 8,
   "metadata": {},
   "outputs": [
    {
     "name": "stdout",
     "output_type": "stream",
     "text": [
      "\n",
      "\n",
      " ---- problem solved successfully ---- \n",
      "\n",
      "\n"
     ]
    },
    {
     "data": {
      "image/png": "[encoded data removed]",
      "text/plain": [
       "<Figure size 432x288 with 1 Axes>"
      ]
     },
     "metadata": {
      "needs_background": "light"
     },
     "output_type": "display_data"
    }
   ],
   "source": [
    "V_prob1 = problem_1()\n",
    "check_solutions( V_prob1, 'problem1.npy' )"
   ]
  },
  {
   "cell_type": "code",
   "execution_count": null,
   "metadata": {},
   "outputs": [],
   "source": []
  },
  {
   "cell_type": "code",
   "execution_count": 9,
   "metadata": {},
   "outputs": [],
   "source": [
    "def problem_2():\n",
    "    #//////////////////////////////////////////\n",
    "    # problem 2 - oscillating current input //\n",
    "    #////////////////////////////////////////\n",
    "    # Use the LIF implementation from problem 1.\n",
    "    # Create a current input which:\n",
    "    #       - starts at 0 A\n",
    "    #       - oscillates with a cosine of amplitude 20 nA at stim_time[0]\n",
    "    #       - stops oscillating and returns to 0 A at stim_time[1]\n",
    "    #\n",
    "    # output:\n",
    "    # Plot the resulting simulated membrange potential of the LIF, and save the \n",
    "    # membrane potential in a vector named \"V_prob2\".\n",
    "    \n",
    "    # problem-specific parameters\n",
    "    f     = 10 # Hz\n",
    "    phase = np.pi\n",
    "    stim_time = [.2,.8]\n",
    "\n",
    "    V,spikes = initialize_simulation()  # initialize simulation\n",
    "\n",
    "    for ii in range(1,len(time)):\n",
    "        if time[ii] >= stim_time[0] and time[ii] <= stim_time[1]:\n",
    "            Ie = 2e-8 * np.cos(2*np.pi*f*time[ii] + phase)\n",
    "        else:\n",
    "            Ie = 0\n",
    "            \n",
    "        V, spikes = integrate_and_fire( V, spikes, ii, Ie )\n",
    "        \n",
    "    # add spikes\n",
    "    V[spikes==1] = Vs\n",
    "    \n",
    "    # PLOT membrane potential\n",
    "    plot_potentials(time,V,time[spikes==1])\n",
    "    plt.title('Problem 2: Oscillating current input')\n",
    "    \n",
    "    # output:\n",
    "    V_prob2 = V\n",
    "    return V_prob2"
   ]
  },
  {
   "cell_type": "code",
   "execution_count": 10,
   "metadata": {},
   "outputs": [
    {
     "data": {
      "image/png": "[encoded data removed]",
      "text/plain": [
       "<Figure size 432x288 with 1 Axes>"
      ]
     },
     "metadata": {
      "needs_background": "light"
     },
     "output_type": "display_data"
    }
   ],
   "source": [
    "V_prob2 = problem_2()\n",
    "check_solutions( V_prob2, 'problem2.npy' )"
   ]
  },
  {
   "cell_type": "code",
   "execution_count": null,
   "metadata": {},
   "outputs": [],
   "source": []
  },
  {
   "cell_type": "code",
   "execution_count": 11,
   "metadata": {},
   "outputs": [],
   "source": [
    "def problem_3():\n",
    "    #////////////////////////////////////////////////////\n",
    "    # problem 3 - scan across oscillation frequencies //\n",
    "    #//////////////////////////////////////////////////\n",
    "    # Using previous problem's simulation (i.e. oscillating current input),\n",
    "    # run a simulation per frequency stored in the variable \"freq\".\n",
    "    # \n",
    "    # output: plot the results, and then save the number of spikes generated in \n",
    "    # each run in a variable named \"nspikes_prob3\".\n",
    "    \n",
    "    # problem-specific parameters\n",
    "    freq  = np.linspace(15,50,(50-15)+1) # Hz\n",
    "    phase = np.pi\n",
    "    oscillation_amplitude = 4e-8 # amps\n",
    "    stim_time = [.2,.8]\n",
    "\n",
    "    # initialize array\n",
    "    nSpikes  = np.zeros(freq.size)\n",
    "\n",
    "    # iterate each freq\n",
    "    for j,f in enumerate(freq):\n",
    "        V,spikes = initialize_simulation()  # initialize simulation\n",
    "        for ii in range(1, len(time)):\n",
    "            if time[ii] >= stim_time[0] and time[ii] <= stim_time[1]:\n",
    "                Ie = oscillation_amplitude * np.cos(2*np.pi*f*time[ii] + phase)\n",
    "            else:\n",
    "                Ie = 0\n",
    "            V, spikes = integrate_and_fire( V, spikes, ii, Ie )\n",
    "        nSpikes[j] = np.sum(spikes)\n",
    "    \n",
    "    # PLOT number of spikes per frequency\n",
    "    plt.show()\n",
    "    plt.plot( freq, nSpikes, 'ko' )\n",
    "    plt.title('Problem 3: Scan across oscillating frequencies')\n",
    "    plt.xlabel('frequency (Hz)')\n",
    "    plt.ylabel('# of spikes')\n",
    "    \n",
    "    return nSpikes"
   ]
  },
  {
   "cell_type": "code",
   "execution_count": 12,
   "metadata": {},
   "outputs": [
    {
     "data": {
      "image/png": "[encoded data removed]",
      "text/plain": [
       "<Figure size 432x288 with 1 Axes>"
      ]
     },
     "metadata": {
      "needs_background": "light"
     },
     "output_type": "display_data"
    }
   ],
   "source": [
    "nSpikes = problem_3()"
   ]
  },
  {
   "cell_type": "code",
   "execution_count": 13,
   "metadata": {},
   "outputs": [],
   "source": [
    "check_solutions(nSpikes, 'problem3.npy')"
   ]
  },
  {
   "cell_type": "code",
   "execution_count": null,
   "metadata": {},
   "outputs": [],
   "source": []
  },
  {
   "cell_type": "code",
   "execution_count": 14,
   "metadata": {},
   "outputs": [],
   "source": [
    "def problem_4():\n",
    "    #//////////////////////////////////////////\n",
    "    # problem 4 - fluctuating current input //\n",
    "    #////////////////////////////////////////\n",
    "    # Use the LIF implementation from simulation 1.\n",
    "    # Create a current input using a logistic map in the chaotic regime (a=4).\n",
    "    # Add an additional current step starting at stim_time[0] and ending at \n",
    "    # stim_time[1]\n",
    "    #\n",
    "    # output:\n",
    "    # Plot the resulting simulated membrange potential of the LIF, and save the \n",
    "    # membrane potential in a vector named \"V_prob4\".\n",
    "    \n",
    "    # Parameters:\n",
    "    a = 4; lm_x0 = 0.6; lm_range = 5e-8; # parameters for logistic map (ensure the mean is 0 by subtracting 0.5)\n",
    "    current_step = 1e-8\n",
    "    stim_time = [.2,.8]\n",
    "\n",
    "    V,spikes = initialize_simulation() \t# initialize simulation\n",
    "    x = (logistic_map(a, lm_x0, len(time)) - 0.5) * lm_range\n",
    "    \n",
    "    for ii in range(1, len(time)):\n",
    "        if time[ii]>=stim_time[0] and time[ii]<=stim_time[1]:\n",
    "            Ie = x[ii] + current_step\n",
    "        else:\n",
    "            Ie = x[ii]\n",
    "            \n",
    "        V, spikes = integrate_and_fire( V, spikes, ii, Ie )\n",
    "    \n",
    "    # add spikes\n",
    "    V[spikes==1] = Vs\n",
    "    \n",
    "    # PLOT membrane potential\n",
    "    plot_potentials(time,V,time[spikes==1])\n",
    "    plt.title('Problem 4: Chaotic input')\n",
    "\n",
    "    # output:\n",
    "    V_prob4 = V\n",
    "    return V_prob4"
   ]
  },
  {
   "cell_type": "code",
   "execution_count": 15,
   "metadata": {},
   "outputs": [
    {
     "name": "stdout",
     "output_type": "stream",
     "text": [
      "\n",
      "\n",
      " ---- problem solved successfully ---- \n",
      "\n",
      "\n"
     ]
    },
    {
     "data": {
      "image/png": "[encoded data removed]",
      "text/plain": [
       "<Figure size 432x288 with 1 Axes>"
      ]
     },
     "metadata": {
      "needs_background": "light"
     },
     "output_type": "display_data"
    }
   ],
   "source": [
    "V_prob4 = problem_4()\n",
    "\n",
    "check_solutions( V_prob4, 'problem4.npy' )"
   ]
  },
  {
   "cell_type": "code",
   "execution_count": null,
   "metadata": {},
   "outputs": [],
   "source": []
  }
 ],
 "metadata": {
  "kernelspec": {
   "display_name": "Python 3",
   "language": "python",
   "name": "python3"
  },
  "language_info": {
   "codemirror_mode": {
    "name": "ipython",
    "version": 3
   },
   "file_extension": ".py",
   "mimetype": "text/x-python",
   "name": "python",
   "nbconvert_exporter": "python",
   "pygments_lexer": "ipython3",
   "version": "3.7.9"
  }
 },
 "nbformat": 4,
 "nbformat_minor": 4
}
